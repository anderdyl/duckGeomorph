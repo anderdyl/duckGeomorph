{
 "cells": [
  {
   "cell_type": "code",
   "execution_count": null,
   "metadata": {},
   "outputs": [],
   "source": [
    "from getdatatestbed import getDataFRF\n",
    "import datetime as DT \n",
    "import numpy as np\n",
    "from matplotlib import pyplot as plt \n",
    "%matplotlib inline\n",
    "import netCDF4 as nc "
   ]
  },
  {
   "cell_type": "markdown",
   "metadata": {},
   "source": [
    "This script is an example for mike forte to evaluate and look at the regression through time of the entire FRF property.  This as it stands right now is only on the North side, it does a gridded evolution through time of the survey data.  Things to notice are the surveys changed around 1995 (dunes stopped being captured, and profiles lengthened).  the cross-shore migration of sandbars from the shoreline to about 400m before they dissapear\n",
    "\n",
    "# TODO\n",
    "- do the same thing on the south side\n",
    "- do a subtraction of the North and south profiles to highlight the difference (if any) between most offshore profiles. tip: use midpoint normalize to center the RdBu colormap on zero when doing the diffence plot \n",
    "\n",
    "# possible problems \n",
    "- time as its rounded right now seems to round part of the surveys in to one day and part into another day. this causes some of the data to be excluded om the analysis, it should be more throughly added "
   ]
  },
  {
   "cell_type": "code",
   "execution_count": null,
   "metadata": {},
   "outputs": [],
   "source": [
    "def roundTime(dt=None, roundTo=60):\n",
    "   \"\"\"Round a datetime object to any time lapse in seconds\n",
    "   dt : datetime.datetime object, default now.\n",
    "   roundTo : Closest number of seconds to round to, default 1 minute.\n",
    "   Author: Thierry Husson 2012 - Use it as you want but don't blame me.\n",
    "   \"\"\"\n",
    "   if dt == None : dt = DT.datetime.now()\n",
    "   seconds = (dt.replace(tzinfo=None) - dt.min).seconds\n",
    "   rounding = (seconds+roundTo/2) // roundTo * roundTo\n",
    "   return dt + DT.timedelta(0,rounding-seconds,-dt.microsecond)\n",
    "\n",
    "import matplotlib.colors as colors\n",
    "\n",
    "class MidpointNormalize(colors.Normalize):\n",
    "    \"\"\"\tNormalise the colorbar so that diverging bars work there way either side from a prescribed midpoint value)\n",
    "\n",
    "    e.g. im=ax1.imshow(array, norm=MidpointNormalize(midpoint=0.,vmin=-100, vmax=100))\n",
    "\n",
    "    Examples:\n",
    "        elev_min=-1000\n",
    "        elev_max=3000\n",
    "        mid_val=0\n",
    "\n",
    "        plt.imshow(ras, cmap=cmap, clim=(elev_min, elev_max), norm=MidpointNormalize(midpoint=mid_val,vmin=elev_min, vmax=elev_max))\n",
    "        plt.colorbar()\n",
    "        plt.show()\n",
    "    \"\"\"\n",
    "\n",
    "    def __init__(self, vmin=None, vmax=None, midpoint=None, clip=False):\n",
    "        self.midpoint = midpoint\n",
    "        colors.Normalize.__init__(self, vmin, vmax, clip)\n",
    "\n",
    "    def __call__(self, value, clip=None):\n",
    "        # I'm ignoring masked values and all kinds of edge cases to make a\n",
    "        # simple example...\n",
    "        x, y = [self.vmin, self.midpoint, self.vmax], [0, 0.5, 1]\n",
    "        return np.ma.masked_array(np.interp(value, x, y), np.isnan(value))"
   ]
  },
  {
   "cell_type": "code",
   "execution_count": null,
   "metadata": {},
   "outputs": [],
   "source": [
    "go  = getDataFRF.getObs(DT.datetime(1900,1,1), DT.datetime(2019,12,1))\n",
    "survey = go.getBathyTransectFromNC(forceReturnAll=True)\n",
    "print(survey.keys())\n",
    "# what are my north and south lines of interest\n",
    "NorthIdx = survey['profileNumber'] == 1097\n",
    "southIdx = survey['profileNumber'] == 1\n",
    "crossShoreMax = 1500   # how far do we want to look in cross-shore "
   ]
  },
  {
   "cell_type": "code",
   "execution_count": null,
   "metadata": {},
   "outputs": [],
   "source": [
    "# isolate data for Northside line only \n",
    "timesNorth = survey['time'][NorthIdx]\n",
    "xFRFNorth = survey['xFRF'][NorthIdx]\n",
    "elevationNorth = survey['elevation'][NorthIdx]\n",
    "surveyNumberNorth = survey['surveyNumber'][NorthIdx]\n",
    "epochTimesNorth = survey['epochtime'][NorthIdx]\n",
    "# UniqueSurveyNumbersNorth = np.unique(surveyNumberNorth)\n",
    "timesNorth = [roundTime(t, roundTo=60*60*24) for t in timesNorth]  #round to nearest Day\n",
    "epochTimesNorth = nc.date2num(timesNorth, 'seconds since 1970-01-01')\n",
    "# quick plot to see what we're looking at \n",
    "plt.plot(xFRFNorth, elevationNorth,'.')\n",
    "plt.xlim([0, crossShoreMax])\n",
    "plt.ylim([-16, 8])\n"
   ]
  },
  {
   "cell_type": "code",
   "execution_count": null,
   "metadata": {},
   "outputs": [],
   "source": [
    "# now grid data in cross shore\n",
    "from scipy import interpolate\n",
    "minPoints4Survey = 10\n",
    "xOut = np.arange(0,1800)\n",
    "tOut = np.unique(epochTimesNorth)\n",
    "#how many unique surveys do i have??\n",
    "zOutNorth = np.ma.masked_all((tOut.shape[0], xOut.shape[0])) # initalize masked array all values True\n",
    "for ss, surveyTime in enumerate(tOut):  # ss is index of value surveyNum\n",
    "    idxSurveyPoints = epochTimesNorth == surveyTime\n",
    "    print('{} survey points in survey on {}'.format(np.sum(idxSurveyPoints), nc.num2date(surveyTime, 'seconds since 1970-01-01')))\n",
    "    print('Mean elevations {:.2f}'.format(elevationNorth[idxSurveyPoints].mean()))\n",
    "    if idxSurveyPoints.sum() > minPoints4Survey:  # sometimes there's not enough points on a day (i don't know why)\n",
    "        tempf = interpolate.interp1d(xFRFNorth[idxSurveyPoints], elevationNorth[idxSurveyPoints],\n",
    "                                     bounds_error=False, kind='linear', fill_value='nan')\n",
    "        zOutNorth[ss] = tempf(xOut)\n",
    "#     else:\n",
    "#         print('  deleted ss{}'.format(ss))\n",
    "#         tOut=np.delete(tOut,ss)"
   ]
  },
  {
   "cell_type": "code",
   "execution_count": null,
   "metadata": {},
   "outputs": [],
   "source": [
    "plt.figure(figsize=(18,6))\n",
    "plt.pcolormesh(xOut, nc.num2date(tOut, 'seconds since 1970-01-01'), zOutNorth)# , cmap='RdBu', norm=(MidpointNormalize(midpoint=0)))\n",
    "plt.colorbar()\n",
    "# notice bar migration patterns "
   ]
  },
  {
   "cell_type": "code",
   "execution_count": null,
   "metadata": {},
   "outputs": [],
   "source": []
  }
 ],
 "metadata": {
  "kernelspec": {
   "display_name": "Python 3",
   "language": "python",
   "name": "python3"
  },
  "language_info": {
   "codemirror_mode": {
    "name": "ipython",
    "version": 3
   },
   "file_extension": ".py",
   "mimetype": "text/x-python",
   "name": "python",
   "nbconvert_exporter": "python",
   "pygments_lexer": "ipython3",
   "version": "3.7.4"
  }
 },
 "nbformat": 4,
 "nbformat_minor": 2
}
